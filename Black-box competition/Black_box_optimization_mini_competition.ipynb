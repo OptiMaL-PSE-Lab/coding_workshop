{
  "nbformat": 4,
  "nbformat_minor": 0,
  "metadata": {
    "colab": {
      "name": "Black-box optimization mini-competition.ipynb",
      "provenance": []
    },
    "kernelspec": {
      "name": "python3",
      "display_name": "Python 3"
    },
    "language_info": {
      "name": "python"
    }
  },
  "cells": [
    {
      "cell_type": "markdown",
      "source": [
        "Function definitions. For more test functions: https://en.wikipedia.org/wiki/Test_functions_for_optimization "
      ],
      "metadata": {
        "id": "4Gkzd2b39MJV"
      }
    },
    {
      "cell_type": "code",
      "source": [
        "import numpy as np\n",
        "from typing import List, Tuple\n",
        "\n",
        "def f_d2(x: List[float]) -> float:\n",
        "  '''\n",
        "  f is the \"black-box\" function that needs to be optimized\n",
        "  Input:\n",
        "    x: list of size N_x/ array of size (N_x,)\n",
        "  Output:\n",
        "    float: function evaluation associated with x\n",
        "  '''\n",
        "  x = np.array(x)\n",
        "  return (1-x[0])**2 + 100*(x[1]-x[0]**2)**2\n",
        "\n",
        "def f_d3(x: List[float]) -> float:\n",
        "  '''\n",
        "  f is the \"black-box\" function that needs to be optimized\n",
        "  Input:\n",
        "    x: list of size N_x/ array of size (N_x,)\n",
        "  Output:\n",
        "    float: function evaluation associated with x\n",
        "  '''\n",
        "  x = np.array(x)\n",
        "  return (1-x[0])**2 + 100*(x[1]-x[0]**2)**2 + x[2]**2"
      ],
      "metadata": {
        "id": "G098JNrr9Ill"
      },
      "execution_count": 1,
      "outputs": []
    },
    {
      "cell_type": "markdown",
      "source": [
        "Your algorithm here: "
      ],
      "metadata": {
        "id": "1-5z1Ky_9Ylg"
      }
    },
    {
      "cell_type": "code",
      "source": [
        "def optimizer_dummy(f, N_x: int, bounds: List[Tuple[float]], N: int = 100) -> (float, List[float]):\n",
        "  '''\n",
        "  Optimizer aims to optimize a black-box function 'f' using the dimensionality \n",
        "  'N_x', and box-'bounds' on the decision vector \n",
        "  Input:\n",
        "    f: function: taking as input a list of size N_x and outputing a float\n",
        "    N_x: int: number of dimensions\n",
        "    N: int: optional: Evaluation budget\n",
        "    bounds: List of size N where each element i is a tuple conisting of 2 floats \n",
        "            (lower, upper) serving as box-bounds on the ith element of x\n",
        "  Return:\n",
        "    tuple: 1st element: lowest value found for f, f_min\n",
        "           2nd element: list/array of size N_x giving the decision variables\n",
        "                        associated with f_min\n",
        "  '''\n",
        "  if N_x != len(bounds): \n",
        "    raise ValueError('Nbr of variables N_x does not match length of bounds')\n",
        "\n",
        "  ### Your code here\n",
        "  x = [np.mean(bounds[i]) for i in range(N_x)]\n",
        "  ###\n",
        "\n",
        "  return f(x), x"
      ],
      "metadata": {
        "id": "DBT9yzO19X-v"
      },
      "execution_count": 4,
      "outputs": []
    },
    {
      "cell_type": "markdown",
      "source": [
        "Example of use"
      ],
      "metadata": {
        "id": "x-Ude-lo9uQj"
      }
    },
    {
      "cell_type": "code",
      "source": [
        "N_x = 2\n",
        "bounds = [(-2.0, 2.0) for i in range(N_x)]\n",
        "print(optimizer_dummy(f_d2, N_x, bounds, N=100))\n",
        "N_x = 3\n",
        "bounds = [(-2.0, 2.0) for i in range(N_x)]\n",
        "print(optimizer_dummy(f_d3, N_x, bounds, N=1000))"
      ],
      "metadata": {
        "colab": {
          "base_uri": "https://localhost:8080/"
        },
        "id": "PZbB3JMt9qgy",
        "outputId": "e120e9fb-6848-43a2-d8a9-f4a8388a43af"
      },
      "execution_count": 5,
      "outputs": [
        {
          "output_type": "stream",
          "name": "stdout",
          "text": [
            "(1.0, [0.0, 0.0])\n",
            "(1.0, [0.0, 0.0, 0.0])\n"
          ]
        }
      ]
    }
  ]
}